{
  "nbformat": 4,
  "nbformat_minor": 0,
  "metadata": {
    "colab": {
      "provenance": []
    },
    "kernelspec": {
      "name": "python3",
      "display_name": "Python 3"
    },
    "language_info": {
      "name": "python"
    }
  },
  "cells": [
    {
      "cell_type": "code",
      "execution_count": null,
      "metadata": {
        "id": "GUO4_7WWTEdH"
      },
      "outputs": [],
      "source": [
        "import pandas as pd"
      ]
    },
    {
      "cell_type": "code",
      "source": [
        "file_path = '/content/virtual_internship_data (3).csv'\n",
        "data = pd.read_csv(file_path, encoding='latin1')\n"
      ],
      "metadata": {
        "id": "ttAD4FkwTR7u"
      },
      "execution_count": null,
      "outputs": []
    },
    {
      "cell_type": "code",
      "source": [
        "data.drop_duplicates(inplace=True)"
      ],
      "metadata": {
        "id": "PB1GG0GuTWj_"
      },
      "execution_count": null,
      "outputs": []
    },
    {
      "cell_type": "code",
      "source": [
        "data.fillna({'message': '', 'description': '', 'caption': '', 'link': '', 'picture': ''}, inplace=True)\n",
        "data.dropna(subset=['likes_count', 'comments_count', 'shares_count', 'love_count'], inplace=True)"
      ],
      "metadata": {
        "id": "QSyZxUqYTYpR"
      },
      "execution_count": null,
      "outputs": []
    },
    {
      "cell_type": "code",
      "source": [
        "data['posted_at'] = pd.to_datetime(data['posted_at'], errors='coerce')"
      ],
      "metadata": {
        "id": "TPGkt4NNTfPw"
      },
      "execution_count": null,
      "outputs": []
    },
    {
      "cell_type": "code",
      "source": [
        "data['likes_count'] = pd.to_numeric(data['likes_count'], errors='coerce')\n",
        "data['comments_count'] = pd.to_numeric(data['comments_count'], errors='coerce')\n",
        "data['shares_count'] = pd.to_numeric(data['shares_count'], errors='coerce')\n",
        "data['love_count'] = pd.to_numeric(data['love_count'], errors='coerce')"
      ],
      "metadata": {
        "id": "ZaEskGIMTh0y"
      },
      "execution_count": null,
      "outputs": []
    },
    {
      "cell_type": "code",
      "source": [
        "data['Total_Engagement'] = (\n",
        "    data['likes_count'] + data['comments_count'] + data['shares_count'] +\n",
        "    data['love_count'] + data['wow_count'] + data['haha_count'] +\n",
        "    data['sad_count'] + data['thankful_count'] + data['angry_count']\n",
        ")\n",
        "data['Engagement_Rate'] = (data['Total_Engagement'] / data.shape[0]) * 100\n"
      ],
      "metadata": {
        "id": "k0OuzEGmTkAZ"
      },
      "execution_count": null,
      "outputs": []
    },
    {
      "cell_type": "code",
      "source": [
        "data = data[data['Total_Engagement'] > 0]"
      ],
      "metadata": {
        "id": "d-Oa6CE5Tm0V"
      },
      "execution_count": null,
      "outputs": []
    },
    {
      "cell_type": "code",
      "source": [
        "cleaned_file_path = '/content/cleaned_virtual_internship_data (3).csv'\n",
        "data.to_csv(cleaned_file_path, index=False)"
      ],
      "metadata": {
        "id": "eHjntVm3TpEu"
      },
      "execution_count": null,
      "outputs": []
    }
  ]
}